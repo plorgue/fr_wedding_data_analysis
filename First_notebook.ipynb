{
 "cells": [
  {
   "cell_type": "code",
   "execution_count": 2,
   "metadata": {},
   "outputs": [],
   "source": [
    "import pandas as pd\n",
    "import numpy as np\n",
    "import matplotlib.pyplot as plt\n",
    "\n",
    "p = plt.rcParams\n",
    "p[\"figure.dpi\"] = 300"
   ]
  },
  {
   "cell_type": "markdown",
   "metadata": {},
   "source": [
    "# Fonctions"
   ]
  },
  {
   "cell_type": "code",
   "execution_count": 3,
   "metadata": {},
   "outputs": [],
   "source": [
    "def get_dataset_data(annee) : \n",
    "    path = f\"data/etatcivil{annee}_mar{annee}_csv/FD_MAR_{annee}.csv\"\n",
    "    return pd.read_csv(path, sep=';')"
   ]
  },
  {
   "cell_type": "code",
   "execution_count": 4,
   "metadata": {},
   "outputs": [],
   "source": [
    "def get_dataset_corresp_labels(annee) : \n",
    "    path = f\"data/etatcivil{annee}_mar{annee}_csv/Varmod_MAR_{annee}.csv\"\n",
    "    return pd.read_csv(path, sep=';')"
   ]
  },
  {
   "cell_type": "code",
   "execution_count": 5,
   "metadata": {},
   "outputs": [],
   "source": [
    "#data : tableau de tableau avec data[0]= [Y1,Y2] qui signfie qu'en 0 on veut afficher Y1 et Y2\n",
    "def autoplot(data) :\n",
    "  for i in range(len(data)) : \n",
    "    color = \"C0\"\n",
    "    for j in  (data[i]) : \n",
    "      ax.bar(X*5 + i, j, color=color, alpha=1.00 - i*0.25)\n",
    "      color = \"C1\""
   ]
  },
  {
   "cell_type": "markdown",
   "metadata": {},
   "source": [
    "# Visualisation des données"
   ]
  },
  {
   "cell_type": "code",
   "execution_count": 6,
   "metadata": {},
   "outputs": [
    {
     "name": "stderr",
     "output_type": "stream",
     "text": [
      "<ipython-input-6-1d90c98f10a7>:1: DtypeWarning: Columns (3) have mixed types.Specify dtype option on import or set low_memory=False.\n",
      "  df_2018 = get_dataset_data(2018)\n",
      "<ipython-input-6-1d90c98f10a7>:2: DtypeWarning: Columns (3) have mixed types.Specify dtype option on import or set low_memory=False.\n",
      "  df_2019 = get_dataset_data(2019)\n"
     ]
    }
   ],
   "source": [
    "df_2018 = get_dataset_data(2018)\n",
    "df_2019 = get_dataset_data(2019)\n",
    "\n",
    "df_corresp_labels_2018 = get_dataset_corresp_labels(2018)\n",
    "df_corresp_labels_2019 = get_dataset_corresp_labels(2019)"
   ]
  },
  {
   "cell_type": "code",
   "execution_count": 7,
   "metadata": {},
   "outputs": [
    {
     "data": {
      "text/html": [
       "<div>\n",
       "<style scoped>\n",
       "    .dataframe tbody tr th:only-of-type {\n",
       "        vertical-align: middle;\n",
       "    }\n",
       "\n",
       "    .dataframe tbody tr th {\n",
       "        vertical-align: top;\n",
       "    }\n",
       "\n",
       "    .dataframe thead th {\n",
       "        text-align: right;\n",
       "    }\n",
       "</style>\n",
       "<table border=\"1\" class=\"dataframe\">\n",
       "  <thead>\n",
       "    <tr style=\"text-align: right;\">\n",
       "      <th></th>\n",
       "      <th>AMAR</th>\n",
       "      <th>ANAIS1</th>\n",
       "      <th>ANAIS2</th>\n",
       "      <th>DEPDOM</th>\n",
       "      <th>DEPMAR</th>\n",
       "      <th>DEPNAIS1</th>\n",
       "      <th>DEPNAIS2</th>\n",
       "      <th>ETAMAT1</th>\n",
       "      <th>ETAMAT2</th>\n",
       "      <th>INDNAT1</th>\n",
       "      <th>INDNAT2</th>\n",
       "      <th>JSEMAINE</th>\n",
       "      <th>MMAR</th>\n",
       "      <th>NBENFCOM</th>\n",
       "      <th>SEXE1</th>\n",
       "      <th>SEXE2</th>\n",
       "      <th>TUCOM</th>\n",
       "      <th>TUDOM</th>\n",
       "    </tr>\n",
       "  </thead>\n",
       "  <tbody>\n",
       "    <tr>\n",
       "      <th>0</th>\n",
       "      <td>2018</td>\n",
       "      <td>1999</td>\n",
       "      <td>1999</td>\n",
       "      <td>99</td>\n",
       "      <td>01</td>\n",
       "      <td>99</td>\n",
       "      <td>99</td>\n",
       "      <td>1</td>\n",
       "      <td>1</td>\n",
       "      <td>2</td>\n",
       "      <td>2</td>\n",
       "      <td>6</td>\n",
       "      <td>11</td>\n",
       "      <td>N</td>\n",
       "      <td>M</td>\n",
       "      <td>F</td>\n",
       "      <td>NaN</td>\n",
       "      <td>9</td>\n",
       "    </tr>\n",
       "    <tr>\n",
       "      <th>1</th>\n",
       "      <td>2018</td>\n",
       "      <td>1987</td>\n",
       "      <td>1987</td>\n",
       "      <td>99</td>\n",
       "      <td>01</td>\n",
       "      <td>70</td>\n",
       "      <td>99</td>\n",
       "      <td>1</td>\n",
       "      <td>1</td>\n",
       "      <td>1</td>\n",
       "      <td>2</td>\n",
       "      <td>6</td>\n",
       "      <td>8</td>\n",
       "      <td>N</td>\n",
       "      <td>M</td>\n",
       "      <td>F</td>\n",
       "      <td>NaN</td>\n",
       "      <td>9</td>\n",
       "    </tr>\n",
       "    <tr>\n",
       "      <th>2</th>\n",
       "      <td>2018</td>\n",
       "      <td>1990</td>\n",
       "      <td>1990</td>\n",
       "      <td>99</td>\n",
       "      <td>01</td>\n",
       "      <td>74</td>\n",
       "      <td>01</td>\n",
       "      <td>1</td>\n",
       "      <td>1</td>\n",
       "      <td>1</td>\n",
       "      <td>1</td>\n",
       "      <td>6</td>\n",
       "      <td>7</td>\n",
       "      <td>N</td>\n",
       "      <td>M</td>\n",
       "      <td>F</td>\n",
       "      <td>NaN</td>\n",
       "      <td>9</td>\n",
       "    </tr>\n",
       "    <tr>\n",
       "      <th>3</th>\n",
       "      <td>2018</td>\n",
       "      <td>1985</td>\n",
       "      <td>1986</td>\n",
       "      <td>99</td>\n",
       "      <td>01</td>\n",
       "      <td>69</td>\n",
       "      <td>99</td>\n",
       "      <td>1</td>\n",
       "      <td>1</td>\n",
       "      <td>1</td>\n",
       "      <td>2</td>\n",
       "      <td>6</td>\n",
       "      <td>12</td>\n",
       "      <td>N</td>\n",
       "      <td>M</td>\n",
       "      <td>F</td>\n",
       "      <td>NaN</td>\n",
       "      <td>9</td>\n",
       "    </tr>\n",
       "    <tr>\n",
       "      <th>4</th>\n",
       "      <td>2018</td>\n",
       "      <td>1985</td>\n",
       "      <td>1986</td>\n",
       "      <td>99</td>\n",
       "      <td>01</td>\n",
       "      <td>69</td>\n",
       "      <td>99</td>\n",
       "      <td>1</td>\n",
       "      <td>1</td>\n",
       "      <td>1</td>\n",
       "      <td>2</td>\n",
       "      <td>6</td>\n",
       "      <td>12</td>\n",
       "      <td>N</td>\n",
       "      <td>M</td>\n",
       "      <td>F</td>\n",
       "      <td>NaN</td>\n",
       "      <td>9</td>\n",
       "    </tr>\n",
       "  </tbody>\n",
       "</table>\n",
       "</div>"
      ],
      "text/plain": [
       "   AMAR  ANAIS1  ANAIS2 DEPDOM DEPMAR DEPNAIS1 DEPNAIS2  ETAMAT1  ETAMAT2  \\\n",
       "0  2018    1999    1999     99     01       99       99        1        1   \n",
       "1  2018    1987    1987     99     01       70       99        1        1   \n",
       "2  2018    1990    1990     99     01       74       01        1        1   \n",
       "3  2018    1985    1986     99     01       69       99        1        1   \n",
       "4  2018    1985    1986     99     01       69       99        1        1   \n",
       "\n",
       "   INDNAT1  INDNAT2  JSEMAINE  MMAR NBENFCOM SEXE1 SEXE2 TUCOM  TUDOM  \n",
       "0        2        2         6    11        N     M     F   NaN      9  \n",
       "1        1        2         6     8        N     M     F   NaN      9  \n",
       "2        1        1         6     7        N     M     F   NaN      9  \n",
       "3        1        2         6    12        N     M     F   NaN      9  \n",
       "4        1        2         6    12        N     M     F   NaN      9  "
      ]
     },
     "execution_count": 7,
     "metadata": {},
     "output_type": "execute_result"
    }
   ],
   "source": [
    "df_2018.head()\n"
   ]
  },
  {
   "cell_type": "code",
   "execution_count": 8,
   "metadata": {},
   "outputs": [
    {
     "data": {
      "text/html": [
       "<div>\n",
       "<style scoped>\n",
       "    .dataframe tbody tr th:only-of-type {\n",
       "        vertical-align: middle;\n",
       "    }\n",
       "\n",
       "    .dataframe tbody tr th {\n",
       "        vertical-align: top;\n",
       "    }\n",
       "\n",
       "    .dataframe thead th {\n",
       "        text-align: right;\n",
       "    }\n",
       "</style>\n",
       "<table border=\"1\" class=\"dataframe\">\n",
       "  <thead>\n",
       "    <tr style=\"text-align: right;\">\n",
       "      <th></th>\n",
       "      <th>AMAR</th>\n",
       "      <th>ANAIS1</th>\n",
       "      <th>ANAIS2</th>\n",
       "      <th>DEPDOM</th>\n",
       "      <th>DEPMAR</th>\n",
       "      <th>DEPNAIS1</th>\n",
       "      <th>DEPNAIS2</th>\n",
       "      <th>ETAMAT1</th>\n",
       "      <th>ETAMAT2</th>\n",
       "      <th>INDNAT1</th>\n",
       "      <th>INDNAT2</th>\n",
       "      <th>JSEMAINE</th>\n",
       "      <th>MMAR</th>\n",
       "      <th>NBENFCOM</th>\n",
       "      <th>SEXE1</th>\n",
       "      <th>SEXE2</th>\n",
       "      <th>TUCOM</th>\n",
       "      <th>TUDOM</th>\n",
       "    </tr>\n",
       "  </thead>\n",
       "  <tbody>\n",
       "    <tr>\n",
       "      <th>0</th>\n",
       "      <td>2019</td>\n",
       "      <td>1979</td>\n",
       "      <td>1979</td>\n",
       "      <td>99</td>\n",
       "      <td>01</td>\n",
       "      <td>99</td>\n",
       "      <td>01</td>\n",
       "      <td>4</td>\n",
       "      <td>4</td>\n",
       "      <td>2</td>\n",
       "      <td>1</td>\n",
       "      <td>6</td>\n",
       "      <td>12</td>\n",
       "      <td>N</td>\n",
       "      <td>M</td>\n",
       "      <td>F</td>\n",
       "      <td>NaN</td>\n",
       "      <td>9</td>\n",
       "    </tr>\n",
       "    <tr>\n",
       "      <th>1</th>\n",
       "      <td>2019</td>\n",
       "      <td>1990</td>\n",
       "      <td>1990</td>\n",
       "      <td>99</td>\n",
       "      <td>01</td>\n",
       "      <td>99</td>\n",
       "      <td>30</td>\n",
       "      <td>1</td>\n",
       "      <td>1</td>\n",
       "      <td>2</td>\n",
       "      <td>1</td>\n",
       "      <td>2</td>\n",
       "      <td>12</td>\n",
       "      <td>N</td>\n",
       "      <td>M</td>\n",
       "      <td>F</td>\n",
       "      <td>NaN</td>\n",
       "      <td>9</td>\n",
       "    </tr>\n",
       "    <tr>\n",
       "      <th>2</th>\n",
       "      <td>2019</td>\n",
       "      <td>1992</td>\n",
       "      <td>1995</td>\n",
       "      <td>99</td>\n",
       "      <td>01</td>\n",
       "      <td>75</td>\n",
       "      <td>01</td>\n",
       "      <td>1</td>\n",
       "      <td>1</td>\n",
       "      <td>1</td>\n",
       "      <td>1</td>\n",
       "      <td>6</td>\n",
       "      <td>8</td>\n",
       "      <td>N</td>\n",
       "      <td>M</td>\n",
       "      <td>F</td>\n",
       "      <td>NaN</td>\n",
       "      <td>9</td>\n",
       "    </tr>\n",
       "    <tr>\n",
       "      <th>3</th>\n",
       "      <td>2019</td>\n",
       "      <td>1982</td>\n",
       "      <td>1989</td>\n",
       "      <td>99</td>\n",
       "      <td>01</td>\n",
       "      <td>99</td>\n",
       "      <td>72</td>\n",
       "      <td>1</td>\n",
       "      <td>1</td>\n",
       "      <td>2</td>\n",
       "      <td>1</td>\n",
       "      <td>6</td>\n",
       "      <td>8</td>\n",
       "      <td>N</td>\n",
       "      <td>M</td>\n",
       "      <td>F</td>\n",
       "      <td>NaN</td>\n",
       "      <td>9</td>\n",
       "    </tr>\n",
       "    <tr>\n",
       "      <th>4</th>\n",
       "      <td>2019</td>\n",
       "      <td>1989</td>\n",
       "      <td>1988</td>\n",
       "      <td>99</td>\n",
       "      <td>01</td>\n",
       "      <td>69</td>\n",
       "      <td>01</td>\n",
       "      <td>1</td>\n",
       "      <td>1</td>\n",
       "      <td>1</td>\n",
       "      <td>1</td>\n",
       "      <td>6</td>\n",
       "      <td>6</td>\n",
       "      <td>N</td>\n",
       "      <td>M</td>\n",
       "      <td>F</td>\n",
       "      <td>NaN</td>\n",
       "      <td>9</td>\n",
       "    </tr>\n",
       "  </tbody>\n",
       "</table>\n",
       "</div>"
      ],
      "text/plain": [
       "   AMAR  ANAIS1  ANAIS2 DEPDOM DEPMAR DEPNAIS1 DEPNAIS2  ETAMAT1  ETAMAT2  \\\n",
       "0  2019    1979    1979     99     01       99       01        4        4   \n",
       "1  2019    1990    1990     99     01       99       30        1        1   \n",
       "2  2019    1992    1995     99     01       75       01        1        1   \n",
       "3  2019    1982    1989     99     01       99       72        1        1   \n",
       "4  2019    1989    1988     99     01       69       01        1        1   \n",
       "\n",
       "   INDNAT1  INDNAT2  JSEMAINE  MMAR NBENFCOM SEXE1 SEXE2 TUCOM  TUDOM  \n",
       "0        2        1         6    12        N     M     F   NaN      9  \n",
       "1        2        1         2    12        N     M     F   NaN      9  \n",
       "2        1        1         6     8        N     M     F   NaN      9  \n",
       "3        2        1         6     8        N     M     F   NaN      9  \n",
       "4        1        1         6     6        N     M     F   NaN      9  "
      ]
     },
     "execution_count": 8,
     "metadata": {},
     "output_type": "execute_result"
    }
   ],
   "source": [
    "df_2019.head()"
   ]
  },
  {
   "cell_type": "code",
   "execution_count": 9,
   "metadata": {},
   "outputs": [
    {
     "data": {
      "text/html": [
       "<div>\n",
       "<style scoped>\n",
       "    .dataframe tbody tr th:only-of-type {\n",
       "        vertical-align: middle;\n",
       "    }\n",
       "\n",
       "    .dataframe tbody tr th {\n",
       "        vertical-align: top;\n",
       "    }\n",
       "\n",
       "    .dataframe thead th {\n",
       "        text-align: right;\n",
       "    }\n",
       "</style>\n",
       "<table border=\"1\" class=\"dataframe\">\n",
       "  <thead>\n",
       "    <tr style=\"text-align: right;\">\n",
       "      <th></th>\n",
       "      <th>COD_VAR</th>\n",
       "      <th>LIB_VAR</th>\n",
       "      <th>COD_MOD</th>\n",
       "      <th>LIB_MOD</th>\n",
       "      <th>TYPE_VAR</th>\n",
       "      <th>LONG_VAR</th>\n",
       "    </tr>\n",
       "  </thead>\n",
       "  <tbody>\n",
       "    <tr>\n",
       "      <th>0</th>\n",
       "      <td>AMAR</td>\n",
       "      <td>Année du mariage</td>\n",
       "      <td>2018</td>\n",
       "      <td>2018</td>\n",
       "      <td>CHAR</td>\n",
       "      <td>4</td>\n",
       "    </tr>\n",
       "    <tr>\n",
       "      <th>1</th>\n",
       "      <td>ANAIS1</td>\n",
       "      <td>Année de naissance du conjoint 1</td>\n",
       "      <td>1920</td>\n",
       "      <td>1920</td>\n",
       "      <td>CHAR</td>\n",
       "      <td>4</td>\n",
       "    </tr>\n",
       "    <tr>\n",
       "      <th>2</th>\n",
       "      <td>ANAIS1</td>\n",
       "      <td>Année de naissance du conjoint 1</td>\n",
       "      <td>1921</td>\n",
       "      <td>1921</td>\n",
       "      <td>CHAR</td>\n",
       "      <td>4</td>\n",
       "    </tr>\n",
       "    <tr>\n",
       "      <th>3</th>\n",
       "      <td>ANAIS1</td>\n",
       "      <td>Année de naissance du conjoint 1</td>\n",
       "      <td>1922</td>\n",
       "      <td>1922</td>\n",
       "      <td>CHAR</td>\n",
       "      <td>4</td>\n",
       "    </tr>\n",
       "    <tr>\n",
       "      <th>4</th>\n",
       "      <td>ANAIS1</td>\n",
       "      <td>Année de naissance du conjoint 1</td>\n",
       "      <td>1923</td>\n",
       "      <td>1923</td>\n",
       "      <td>CHAR</td>\n",
       "      <td>4</td>\n",
       "    </tr>\n",
       "  </tbody>\n",
       "</table>\n",
       "</div>"
      ],
      "text/plain": [
       "  COD_VAR                           LIB_VAR COD_MOD LIB_MOD TYPE_VAR  LONG_VAR\n",
       "0    AMAR                  Année du mariage    2018    2018     CHAR         4\n",
       "1  ANAIS1  Année de naissance du conjoint 1    1920    1920     CHAR         4\n",
       "2  ANAIS1  Année de naissance du conjoint 1    1921    1921     CHAR         4\n",
       "3  ANAIS1  Année de naissance du conjoint 1    1922    1922     CHAR         4\n",
       "4  ANAIS1  Année de naissance du conjoint 1    1923    1923     CHAR         4"
      ]
     },
     "execution_count": 9,
     "metadata": {},
     "output_type": "execute_result"
    }
   ],
   "source": [
    "df_corresp_labels_2018.head()"
   ]
  },
  {
   "cell_type": "code",
   "execution_count": 10,
   "metadata": {},
   "outputs": [
    {
     "data": {
      "text/html": [
       "<div>\n",
       "<style scoped>\n",
       "    .dataframe tbody tr th:only-of-type {\n",
       "        vertical-align: middle;\n",
       "    }\n",
       "\n",
       "    .dataframe tbody tr th {\n",
       "        vertical-align: top;\n",
       "    }\n",
       "\n",
       "    .dataframe thead th {\n",
       "        text-align: right;\n",
       "    }\n",
       "</style>\n",
       "<table border=\"1\" class=\"dataframe\">\n",
       "  <thead>\n",
       "    <tr style=\"text-align: right;\">\n",
       "      <th></th>\n",
       "      <th>COD_VAR</th>\n",
       "      <th>LIB_VAR</th>\n",
       "      <th>COD_MOD</th>\n",
       "      <th>LIB_MOD</th>\n",
       "      <th>TYPE_VAR</th>\n",
       "      <th>LONG_VAR</th>\n",
       "    </tr>\n",
       "  </thead>\n",
       "  <tbody>\n",
       "    <tr>\n",
       "      <th>0</th>\n",
       "      <td>AMAR</td>\n",
       "      <td>Année du mariage</td>\n",
       "      <td>2019</td>\n",
       "      <td>2019</td>\n",
       "      <td>CHAR</td>\n",
       "      <td>4</td>\n",
       "    </tr>\n",
       "    <tr>\n",
       "      <th>1</th>\n",
       "      <td>ANAIS1</td>\n",
       "      <td>Année de naissance du conjoint 1</td>\n",
       "      <td>1921</td>\n",
       "      <td>1921</td>\n",
       "      <td>CHAR</td>\n",
       "      <td>4</td>\n",
       "    </tr>\n",
       "    <tr>\n",
       "      <th>2</th>\n",
       "      <td>ANAIS1</td>\n",
       "      <td>Année de naissance du conjoint 1</td>\n",
       "      <td>1922</td>\n",
       "      <td>1922</td>\n",
       "      <td>CHAR</td>\n",
       "      <td>4</td>\n",
       "    </tr>\n",
       "    <tr>\n",
       "      <th>3</th>\n",
       "      <td>ANAIS1</td>\n",
       "      <td>Année de naissance du conjoint 1</td>\n",
       "      <td>1923</td>\n",
       "      <td>1923</td>\n",
       "      <td>CHAR</td>\n",
       "      <td>4</td>\n",
       "    </tr>\n",
       "    <tr>\n",
       "      <th>4</th>\n",
       "      <td>ANAIS1</td>\n",
       "      <td>Année de naissance du conjoint 1</td>\n",
       "      <td>1924</td>\n",
       "      <td>1924</td>\n",
       "      <td>CHAR</td>\n",
       "      <td>4</td>\n",
       "    </tr>\n",
       "  </tbody>\n",
       "</table>\n",
       "</div>"
      ],
      "text/plain": [
       "  COD_VAR                           LIB_VAR COD_MOD LIB_MOD TYPE_VAR  LONG_VAR\n",
       "0    AMAR                  Année du mariage    2019    2019     CHAR         4\n",
       "1  ANAIS1  Année de naissance du conjoint 1    1921    1921     CHAR         4\n",
       "2  ANAIS1  Année de naissance du conjoint 1    1922    1922     CHAR         4\n",
       "3  ANAIS1  Année de naissance du conjoint 1    1923    1923     CHAR         4\n",
       "4  ANAIS1  Année de naissance du conjoint 1    1924    1924     CHAR         4"
      ]
     },
     "execution_count": 10,
     "metadata": {},
     "output_type": "execute_result"
    }
   ],
   "source": [
    "df_corresp_labels_2019.head()"
   ]
  },
  {
   "cell_type": "markdown",
   "metadata": {},
   "source": [
    "# Graphiques"
   ]
  },
  {
   "cell_type": "markdown",
   "metadata": {},
   "source": [
    "## Faire un diagramme en barre avec la différence de nombre de mariages par mois entre 2019 et 2018"
   ]
  },
  {
   "cell_type": "code",
   "execution_count": 11,
   "metadata": {},
   "outputs": [
    {
     "data": {
      "image/png": "[encoded data removed]",
      "text/plain": [
       "<Figure size 3000x1200 with 1 Axes>"
      ]
     },
     "metadata": {
      "needs_background": "light"
     },
     "output_type": "display_data"
    }
   ],
   "source": [
    "X = np.arange(0,13)\n",
    "\n",
    "data = []\n",
    "for i in range(1, 13) : \n",
    "    # nb_mariage_mois = [df_2018[df_2018['MMAR'] == i].shape[0], - df_2019[df_2019['MMAR'] == i].shape[0]]\n",
    "    nb_mariage_mois = df_2018[df_2018['MMAR'] == i].shape[0] -  df_2019[df_2019['MMAR'] == i].shape[0]\n",
    "    data.append(nb_mariage_mois)\n",
    "\n",
    "fig = plt.figure(figsize=(10,4))\n",
    "ax = plt.subplot()\n",
    "\n",
    "for i in range(len(data)) : \n",
    "    color = \"red\"\n",
    "    if(data[i] > 0) : \n",
    "        color = \"green\"\n",
    "    ax.bar(X[i], data[i], color=color)\n",
    "\n",
    "ax.spines['right'].set_visible(False)\n",
    "ax.spines['left'].set_visible(True)\n",
    "ax.spines['top'].set_visible(False)\n",
    "ax.spines['bottom'].set_visible(True)\n",
    "\n",
    "mois = ['Janv', 'Fevr', 'Mars', 'Avr', 'Mai', 'Juin', 'Juil', 'Aout', 'Sept', 'Octo', 'Nove', 'Dece']\n",
    "ax.set_xticks(np.arange(len(data)))\n",
    "ax.set_xticklabels(mois)\n",
    "\n",
    "# ax.set_yticks([-40000, -30000, -20000, -10000,0,10000,20000,30000,40000])\n",
    "# ax.set_yticklabels([-40, -30, -20, -10, 0, 10, 20, 30, 40])\n",
    "\n",
    "ax.set_xlabel(\"Mois de l'année\")\n",
    "ax.set_ylabel(\"Différences de nombre de mariages entre 2018 et 2019\")\n",
    "\n",
    "# plt.legend([\"2018\", \"2019\"],loc=2)\n",
    "# plt.title(\"Nombre de mariages par mois pour les années 2018 et 2019\")\n",
    "plt.show()"
   ]
  },
  {
   "cell_type": "markdown",
   "metadata": {},
   "source": [
    "## Faire diagramme barres avec 3x2 barres : celibataire, divorcée, veuf et pour chaque situation une barre femme et une barre homme"
   ]
  },
  {
   "cell_type": "code",
   "execution_count": 528,
   "metadata": {},
   "outputs": [],
   "source": [
    "def get_all_from_etamat(etamat, df_annee) : \n",
    "    # regroupe tous les conjoints num_conjoint qui étaient etatmat avant le mariage pour une année donnée\n",
    "    df1 = df_annee[df_annee[f'ETAMAT1'] == etamat]\n",
    "    df2 = df_annee[df_annee[f'ETAMAT2'] == etamat]\n",
    "\n",
    "    nb_hommes =  df1[df1['SEXE1'] == 'M'].shape[0] + df2[df2['SEXE2'] == 'M'].shape[0] \n",
    "    nb_femmes =  df1[df1['SEXE1'] == 'F'].shape[0] + df2[df2['SEXE2'] == 'F'].shape[0] \n",
    "    return nb_hommes, nb_femmes\n"
   ]
  },
  {
   "cell_type": "code",
   "execution_count": 529,
   "metadata": {},
   "outputs": [],
   "source": [
    "def get_data_tot_annee(df_annee) : \n",
    "    nb_homme_celib, nb_femme_celib = get_all_from_etamat(1, df_annee)\n",
    "    nb_homme_veuf, nb_femme_veuf = get_all_from_etamat(3, df_annee)\n",
    "    nb_homme_divorce, nb_femme_divorce = get_all_from_etamat(4, df_annee)\n",
    "\n",
    "    return [[nb_homme_celib, nb_femme_celib],[nb_homme_veuf, nb_femme_veuf], [nb_homme_divorce, nb_femme_divorce]]\n",
    "\n"
   ]
  },
  {
   "cell_type": "code",
   "execution_count": 530,
   "metadata": {},
   "outputs": [],
   "source": [
    "final_data_2018 = get_data_tot_annee(df_2018)\n",
    "final_data_2019 = get_data_tot_annee(df_2019)"
   ]
  },
  {
   "cell_type": "code",
   "execution_count": 531,
   "metadata": {},
   "outputs": [
    {
     "data": {
      "text/plain": [
       "[[188923, 190482], [2699, 2685], [43263, 41418]]"
      ]
     },
     "execution_count": 531,
     "metadata": {},
     "output_type": "execute_result"
    }
   ],
   "source": [
    "final_data_2018"
   ]
  },
  {
   "cell_type": "code",
   "execution_count": 532,
   "metadata": {},
   "outputs": [
    {
     "data": {
      "text/plain": [
       "[[181655, 183890], [2458, 2402], [40477, 38598]]"
      ]
     },
     "execution_count": 532,
     "metadata": {},
     "output_type": "execute_result"
    }
   ],
   "source": [
    "final_data_2019"
   ]
  },
  {
   "cell_type": "code",
   "execution_count": 540,
   "metadata": {},
   "outputs": [
    {
     "data": {
      "image/png": "[encoded data removed]",
      "text/plain": [
       "<Figure size 864x864 with 6 Axes>"
      ]
     },
     "metadata": {
      "needs_background": "light"
     },
     "output_type": "display_data"
    }
   ],
   "source": [
    "# But : faire une colonne pour chaque année, et sur chaque ligne, un différent ETAMAR avec homme/femme\n",
    "\n",
    "fig = plt.figure(figsize=(12,12))\n",
    "X = np.arange(2)\n",
    "etamar = ['Célibataire', 'Veuf', 'Divorcé']\n",
    "annee = ['2018', '2019']\n",
    "\n",
    "nrows, ncols = 3, 2\n",
    "\n",
    "index = 1\n",
    "for idx_row in range(nrows) : \n",
    "    for idx_col in range(ncols) : \n",
    "        ax = plt.subplot(nrows, ncols, index)\n",
    "        if(idx_col % 2 == 0) : \n",
    "            ax.bar(X[0], final_data_2018[idx_row][0], color = \"C0\")\n",
    "            ax.bar(X[1], final_data_2018[idx_row][1], color = \"C1\")\n",
    "        else : \n",
    "            ax.bar(X[0], final_data_2019[idx_row][0], color = \"C0\")\n",
    "            ax.bar(X[1], final_data_2019[idx_row][1], color = \"C1\")\n",
    "        ax.set_title(f\"{etamar[idx_row]} en {annee[idx_col]}\")\n",
    "        index += 1\n",
    "        ax.set_xticks(X)\n",
    "        ax.set_xticklabels(['Homme', 'Femme'])\n",
    "        ax.set_yticks([0,50000,100000,150000,200000])\n",
    "\n",
    "        \n",
    "\n",
    "# plt.title(\"Etat marital des conjoints avant le mariage\")\n",
    "plt.show()"
   ]
  }
 ],
 "metadata": {
  "interpreter": {
   "hash": "9ba0223c72cc49f7c0bbcc6525472255a1cbe6142fdc2dff5fb16ea52a13c667"
  },
  "kernelspec": {
   "display_name": "Python 3.8.5 64-bit ('3a_ia': conda)",
   "language": "python",
   "name": "python3"
  },
  "language_info": {
   "codemirror_mode": {
    "name": "ipython",
    "version": 3
   },
   "file_extension": ".py",
   "mimetype": "text/x-python",
   "name": "python",
   "nbconvert_exporter": "python",
   "pygments_lexer": "ipython3",
   "version": "3.8.5"
  },
  "orig_nbformat": 4
 },
 "nbformat": 4,
 "nbformat_minor": 2
}
